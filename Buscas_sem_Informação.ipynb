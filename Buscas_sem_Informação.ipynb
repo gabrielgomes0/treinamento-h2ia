{
  "nbformat": 4,
  "nbformat_minor": 0,
  "metadata": {
    "colab": {
      "name": "Buscas sem Informação.ipynb",
      "provenance": [],
      "collapsed_sections": []
    },
    "kernelspec": {
      "name": "python3",
      "display_name": "Python 3"
    },
    "language_info": {
      "name": "python"
    }
  },
  "cells": [
    {
      "cell_type": "code",
      "metadata": {
        "id": "MEM5Vyav9uEF"
      },
      "source": [
        "import numpy as np"
      ],
      "execution_count": 1,
      "outputs": []
    },
    {
      "cell_type": "code",
      "metadata": {
        "id": "dWm3_xf3PXzY"
      },
      "source": [
        "class State_puzzle:\n",
        "  def __init__(self, state):\n",
        "    self.state = state\n",
        "    self.where_is_zero()\n",
        "\n",
        "  def check(self):\n",
        "    compare = np.array([[1, 2, 3],\n",
        "                        [4, 5, 6],\n",
        "                        [7, 8, 0]])\n",
        "    comparison = self.state == compare\n",
        "    return comparison.all()  \n",
        "  \n",
        "  def check_moves(self):\n",
        "    possibles_moves = []\n",
        "    #Cima é 1, direita é 2, baixo 3 e esquerda 4.\n",
        "    if( self.column > 0 ):\n",
        "      possibles_moves.append(4)\n",
        "    if( self.column < 2 ):\n",
        "      possibles_moves.append(2)\n",
        "    if( self.row > 0 ):\n",
        "      possibles_moves.append(1)\n",
        "    if( self.row < 2 ):\n",
        "      possibles_moves.append(3)\n",
        "    return possibles_moves\n",
        "\n",
        "  def where_is_zero(self):\n",
        "    self.row, self.column = np.where( self.state == 0)\n",
        "\n",
        "  def move(self, position):\n",
        "    self.where_is_zero()\n",
        "    move_done = self.state.copy()\n",
        "\n",
        "    if(position == 1):\n",
        "      value = move_done[self.row-1, self.column]\n",
        "      move_done[self.row, self.column] = value\n",
        "      move_done[self.row-1, self.column] = 0\n",
        "      \n",
        "      return move_done\n",
        "    if(position == 2):\n",
        "      value = move_done[self.row, self.column+1]\n",
        "      move_done[self.row, self.column] = value\n",
        "      move_done[self.row, self.column+1] = 0\n",
        "      self.column += 1\n",
        "      \n",
        "      return move_done\n",
        "    if(position == 3):\n",
        "      value = move_done[self.row+1, self.column]\n",
        "      move_done[self.row, self.column] = value\n",
        "      move_done[self.row+1, self.column] = 0\n",
        "      self.row += 1\n",
        "      \n",
        "      return move_done\n",
        "    if(position == 4):\n",
        "      value = move_done[self.row, self.column-1]\n",
        "      move_done[self.row, self.column] = value\n",
        "      move_done[self.row, self.column-1] = 0\n",
        "      self.column -= 1\n",
        "      return move_done\n",
        "    return move_done\n",
        "\n",
        "  "
      ],
      "execution_count": 2,
      "outputs": []
    },
    {
      "cell_type": "code",
      "metadata": {
        "id": "ouYbgh0ZPdzw"
      },
      "source": [
        "class Node:\n",
        "  def __init__(self, state):\n",
        "    self.state = State_puzzle(state)\n",
        "    self.children = []\n",
        "  \n",
        "  def parent_node(self, node):\n",
        "    self.parent = node\n",
        "    \n",
        "  def children_node(self, child):\n",
        "    self.children.append(child)"
      ],
      "execution_count": 3,
      "outputs": []
    },
    {
      "cell_type": "code",
      "metadata": {
        "id": "ZxdHXmJYn6UI"
      },
      "source": [
        "def visited_node(locked_nodes, node):\n",
        "    for actual_node in locked_nodes:\n",
        "      comparison = actual_node == node.state.state\n",
        "      if comparison.all():\n",
        "        return True\n",
        "    return False"
      ],
      "execution_count": 4,
      "outputs": []
    },
    {
      "cell_type": "code",
      "metadata": {
        "id": "YsAvxvPln9Jg"
      },
      "source": [
        "def put_children(node, locked_nodes, list):\n",
        "  node.children = []\n",
        "  moves = node.state.check_moves()\n",
        "  for move in moves:\n",
        "    child = node.state.move(move)\n",
        "    child_node = Node(child)\n",
        "    if not visited_node(locked_nodes, child_node):\n",
        "      node.children_node(child_node)\n",
        "      child_node.parent_node(node)\n",
        "      list.append(child_node)\n",
        "  return node"
      ],
      "execution_count": 5,
      "outputs": []
    },
    {
      "cell_type": "code",
      "metadata": {
        "colab": {
          "base_uri": "https://localhost:8080/"
        },
        "id": "_ecW9PCDYZVU",
        "outputId": "76862cce-b222-4bed-b98f-d85920d7e49a"
      },
      "source": [
        "#Depth first Search\n",
        "\n",
        "stack = []\n",
        "locked_nodes = []\n",
        "movements = 0\n",
        "node = Node(np.array([[0,1,2],\n",
        "                      [4,5,3],\n",
        "                      [7,8,6]]))\n",
        "node = put_children(node, locked_nodes, stack)\n",
        "movements += 1\n",
        "node = stack.pop()\n",
        "\n",
        "\n",
        "while (len(stack) != 0):\n",
        "  if (node.state.check()):\n",
        "    print(movements)\n",
        "    break\n",
        "  else:\n",
        "    locked_nodes.append(node.state.state.copy())\n",
        "    node = put_children(node, locked_nodes, stack)\n",
        "    movements += 1\n",
        "    node = stack.pop()\n",
        "  "
      ],
      "execution_count": 6,
      "outputs": [
        {
          "output_type": "stream",
          "text": [
            "437\n"
          ],
          "name": "stdout"
        }
      ]
    },
    {
      "cell_type": "code",
      "metadata": {
        "colab": {
          "base_uri": "https://localhost:8080/"
        },
        "id": "_WLyhiMhsLbD",
        "outputId": "928c0470-a7d7-4205-cf15-64e5e0ce91ec"
      },
      "source": [
        "#Breadth First Search\n",
        "queue = []\n",
        "locked_nodes = []\n",
        "movements = 0\n",
        "node = Node(np.array([[0,1,2],\n",
        "                      [4,5,3],\n",
        "                      [7,8,6]]))\n",
        "\n",
        "node = put_children(node, locked_nodes, queue)\n",
        "movements += 1\n",
        "\n",
        "node = queue.pop(0)\n",
        "\n",
        "while (len(stack) != 0):\n",
        "  if (node.state.check()):\n",
        "    print(movements)\n",
        "    break\n",
        "  else:\n",
        "    locked_nodes.append(node.state.state.copy())\n",
        "    node = put_children(node, locked_nodes, queue)\n",
        "    movements += 1\n",
        "    node = queue.pop(0)"
      ],
      "execution_count": 7,
      "outputs": [
        {
          "output_type": "stream",
          "text": [
            "18\n"
          ],
          "name": "stdout"
        }
      ]
    },
    {
      "cell_type": "markdown",
      "metadata": {
        "id": "9v1nnVuyu_Li"
      },
      "source": [
        "## Discusta sobre o desempenho dos métodos em questões de:\n",
        "\n",
        "\n",
        "1.   Consumo de memória\n",
        "2.   Processamento\n",
        "\n",
        "Os dois algoritmos armazenam todos os nodos passados na memória, assim, consumindo muita memória para suas execuções.Nos testes realizados, o Depth First Search utilizou muito mais memória que o algoritmo de Breadth First Search, já que percorreu uma quantidade bem maior de nodos.\n",
        "\n",
        "\n",
        "O algoritmo Depth First Search soluciona o problema do quebra cabeças deslizante, porém é demorado na sua execução dependendo da estância do problema, nos casos testados, demorando muito mais que o algoritmo de Breadth First Search, e utilizando muito mais movimentos para encontrar o resultado.\n",
        "\n"
      ]
    }
  ]
}