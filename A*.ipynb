{
  "nbformat": 4,
  "nbformat_minor": 0,
  "metadata": {
    "colab": {
      "name": "A*.ipynb",
      "provenance": [],
      "collapsed_sections": []
    },
    "kernelspec": {
      "name": "python3",
      "display_name": "Python 3"
    },
    "language_info": {
      "name": "python"
    }
  },
  "cells": [
    {
      "cell_type": "code",
      "metadata": {
        "id": "Pd4kUgAxt5jn"
      },
      "source": [
        "import numpy as np"
      ],
      "execution_count": null,
      "outputs": []
    },
    {
      "cell_type": "code",
      "metadata": {
        "id": "I33LET-q1C6u"
      },
      "source": [
        "class State_puzzle:\n",
        "  def __init__(self, state):\n",
        "    self.state = state\n",
        "    self.where_is_zero()\n",
        "\n",
        "  def check(self):\n",
        "    compare = np.array([[1, 2, 3],\n",
        "                        [4, 5, 6],\n",
        "                        [7, 8, 0]])\n",
        "    comparison = self.state == compare\n",
        "    return comparison.all()  \n",
        "  \n",
        "  def check_moves(self):\n",
        "    possibles_moves = []\n",
        "    #Cima é 1, direita é 2, baixo 3 e esquerda 4.\n",
        "    if( self.column > 0 ):\n",
        "      possibles_moves.append(4)\n",
        "    if( self.column < 2 ):\n",
        "      possibles_moves.append(2)\n",
        "    if( self.row > 0 ):\n",
        "      possibles_moves.append(1)\n",
        "    if( self.row < 2 ):\n",
        "      possibles_moves.append(3)\n",
        "    return possibles_moves\n",
        "\n",
        "  def where_is_zero(self):\n",
        "    self.row, self.column = np.where( self.state == 0)\n",
        "\n",
        "  def move(self, position):\n",
        "    self.where_is_zero()\n",
        "    move_done = self.state.copy()\n",
        "\n",
        "    if(position == 1):\n",
        "      value = move_done[self.row-1, self.column]\n",
        "      move_done[self.row, self.column] = value\n",
        "      move_done[self.row-1, self.column] = 0\n",
        "      \n",
        "      return move_done\n",
        "    if(position == 2):\n",
        "      value = move_done[self.row, self.column+1]\n",
        "      move_done[self.row, self.column] = value\n",
        "      move_done[self.row, self.column+1] = 0\n",
        "      self.column += 1\n",
        "      \n",
        "      return move_done\n",
        "    if(position == 3):\n",
        "      value = move_done[self.row+1, self.column]\n",
        "      move_done[self.row, self.column] = value\n",
        "      move_done[self.row+1, self.column] = 0\n",
        "      self.row += 1\n",
        "      \n",
        "      return move_done\n",
        "    if(position == 4):\n",
        "      value = move_done[self.row, self.column-1]\n",
        "      move_done[self.row, self.column] = value\n",
        "      move_done[self.row, self.column-1] = 0\n",
        "      self.column -= 1\n",
        "      return move_done\n",
        "    return move_done\n",
        "\n",
        "  def heuristic_function(self):\n",
        "    heuristic = 0\n",
        "    compare = np.array([[1, 2, 3],\n",
        "                        [4, 5, 6],\n",
        "                        [7, 8, 0]])\n",
        "    comparison = compare == self.state\n",
        "    heuristic = np.count_nonzero(comparison == True)\n",
        "    return heuristic\n",
        "    \n",
        "  "
      ],
      "execution_count": null,
      "outputs": []
    },
    {
      "cell_type": "code",
      "metadata": {
        "id": "elsyn3P_I3Eo"
      },
      "source": [
        "class Node:\n",
        "  def __init__(self, state):\n",
        "    self.state = State_puzzle(state)\n",
        "    self.heuristic = self.state.heuristic_function()\n",
        "    self.children = []\n",
        "  \n",
        "  def parent_node(self, node):\n",
        "    self.parent = node\n",
        "    \n",
        "  def children_node(self, child):\n",
        "    self.children.append(child)\n",
        "  \n",
        "  "
      ],
      "execution_count": null,
      "outputs": []
    },
    {
      "cell_type": "code",
      "metadata": {
        "id": "dhAmbClpUK3R"
      },
      "source": [
        "def visited_node(locked_nodes, node):\n",
        "    for actual_node in locked_nodes:\n",
        "      comparison = actual_node == node.state.state\n",
        "      if comparison.all():\n",
        "        return True\n",
        "    return False"
      ],
      "execution_count": null,
      "outputs": []
    },
    {
      "cell_type": "code",
      "metadata": {
        "id": "KNdJPAPD-B-E"
      },
      "source": [
        "def put_children(node, locked_nodes):\n",
        "  node.children = []\n",
        "  moves = node.state.check_moves()\n",
        "  for move in moves:\n",
        "    child = node.state.move(move)\n",
        "    child_node = Node(child)\n",
        "    if not visited_node(locked_nodes, child_node):\n",
        "      node.children_node(child_node)\n",
        "      child_node.parent_node(node)\n",
        "  return node\n"
      ],
      "execution_count": null,
      "outputs": []
    },
    {
      "cell_type": "code",
      "metadata": {
        "id": "3vNrKw9a_1CM"
      },
      "source": [
        "def step_heuristic(node):\n",
        "  chosen_heuristic = 0\n",
        "  chosen_node = 0\n",
        "  for child in node.children:\n",
        "    if chosen_heuristic < child.heuristic:\n",
        "      chosen_node = child\n",
        "      chosen_heuristic = child.heuristic\n",
        "  \n",
        "  return chosen_node"
      ],
      "execution_count": null,
      "outputs": []
    },
    {
      "cell_type": "code",
      "metadata": {
        "id": "AAv28Fv6soTL"
      },
      "source": [
        "#A*\n",
        "node = Node(np.array([[4,1,3],[7,2,5],[8,0,6]]))\n",
        "locked_nodes = []\n",
        "\n",
        "while not node.state.check():\n",
        "  locked_nodes.append(node.state.state.copy())\n",
        "  node = put_children(node, locked_nodes)\n",
        "  \n",
        "  if node.children == []:\n",
        "    node = node.parent\n",
        "    \n",
        "  else:\n",
        "    \n",
        "    node = step_heuristic(node)\n",
        "  if node == 0:\n",
        "    print('Não chegou na resposta')\n",
        "    break\n",
        "\n"
      ],
      "execution_count": null,
      "outputs": []
    },
    {
      "cell_type": "code",
      "metadata": {
        "colab": {
          "base_uri": "https://localhost:8080/"
        },
        "id": "n5xlZEmsF2tq",
        "outputId": "a599a093-760a-44b2-8d7d-4c63000c7043"
      },
      "source": [
        "print(node.state.state)"
      ],
      "execution_count": null,
      "outputs": [
        {
          "output_type": "stream",
          "text": [
            "[[1 2 3]\n",
            " [4 5 6]\n",
            " [7 8 0]]\n"
          ],
          "name": "stdout"
        }
      ]
    },
    {
      "cell_type": "markdown",
      "metadata": {
        "id": "f2IsIjM3bMIy"
      },
      "source": [
        "## Discusta sobre o desempenho dos métodos em questões de:\n",
        "\n",
        "\n",
        "1.   Consumo de memória\n",
        "2.   Processamento\n",
        "\n",
        "O algoritmo A* é muito eficiente para solucionar o problema do quebra cabeça deslizante, porém, ele armazena cada nodo passado na memória, se tornando assim menos eficiente para problemas que necessecitem de muitos nodos.\n",
        "\n",
        "\n",
        "O processamento do algoritmo é bem eficiente, executa em um tempo bem menor do que a maioria dos algoritmos, é conhecido como o melhor algoritmo quando se trata de rapida execução e menor necessidade de expandir nodos."
      ]
    }
  ]
}
