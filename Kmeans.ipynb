{
  "nbformat": 4,
  "nbformat_minor": 0,
  "metadata": {
    "colab": {
      "name": "Kmeans.ipynb",
      "provenance": []
    },
    "kernelspec": {
      "name": "python3",
      "display_name": "Python 3"
    },
    "language_info": {
      "name": "python"
    }
  },
  "cells": [
    {
      "cell_type": "code",
      "metadata": {
        "id": "ClXwDsz1J1-3"
      },
      "source": [
        "import matplotlib.pyplot as plt\n",
        "from sklearn import datasets\n",
        "from sklearn.decomposition import PCA\n",
        "import pandas as pd\n",
        "import numpy as np"
      ],
      "execution_count": 1,
      "outputs": []
    },
    {
      "cell_type": "code",
      "metadata": {
        "id": "hHkGNNMYKo8b"
      },
      "source": [
        "x, y = datasets.load_iris(return_X_y=True)\n",
        "df = pd.DataFrame(x)"
      ],
      "execution_count": 2,
      "outputs": []
    },
    {
      "cell_type": "code",
      "metadata": {
        "id": "yLY_ZhQ3Kth_"
      },
      "source": [
        "pca = PCA(n_components=2)\n",
        "x_transformed = pca.fit_transform(x)\n",
        "x1 = x_transformed[:, 0]\n",
        "x2 = x_transformed[:, 1]"
      ],
      "execution_count": 3,
      "outputs": []
    },
    {
      "cell_type": "code",
      "metadata": {
        "id": "kAWdFZlGTMRc"
      },
      "source": [
        "class Kmeans():\n",
        "  def __init__(self, clusters):\n",
        "    self.clusters = clusters\n",
        "\n",
        "\n",
        "  def centroids_initiation(self):\n",
        "    centroids = np.random.rand(self.clusters, 2)\n",
        "    return centroids\n",
        "  \n",
        "  def calculate_euclidian(self, centroids, data):\n",
        "    distance = np.empty(shape=[150, 0])\n",
        "    for centroid in centroids:\n",
        "      distance = np.concatenate([distance, np.linalg.norm(data - centroid, axis=1).reshape([-1,1])], axis=1)\n",
        "    return distance\n",
        "\n",
        "  def fit(self, data, max_iter, tol):\n",
        "    centroids = self.centroids_initiation()\n",
        "    for i in range(max_iter):\n",
        "      distance = self.calculate_euclidian(centroids, data)\n",
        "      classes = np.argmin(distance, axis=1)\n",
        "\n",
        "      for classification in classes:\n",
        "        new_centroids = np.empty(shape = [3, 2])\n",
        "        new_centroids[classification] = np.mean(data[classes == classification], axis=0)\n",
        "      if np.linalg.norm(new_centroids - centroids) < tol:\n",
        "        return centroids\n",
        "      centroids = new_centroids\n",
        "\n",
        "\n",
        "  def predict(self, data, centroids):\n",
        "    distance = self.calculate_euclidian(centroids, data)\n",
        "    classes = np.argmin(distance, axis=1)\n",
        "    return classes"
      ],
      "execution_count": 4,
      "outputs": []
    },
    {
      "cell_type": "code",
      "metadata": {
        "colab": {
          "base_uri": "https://localhost:8080/"
        },
        "id": "hbSxrtlyUdtx",
        "outputId": "b70c3d99-ce64-4eff-f0d1-f6a6a00540fc"
      },
      "source": [
        "kmeans = Kmeans(3)\n",
        "centroids = kmeans.fit(x_transformed, 100, 0.001)\n",
        "classifications = kmeans.predict(x_transformed, centroids)\n",
        "print(classifications)"
      ],
      "execution_count": 5,
      "outputs": [
        {
          "output_type": "stream",
          "name": "stdout",
          "text": [
            "[1 1 1 1 1 1 1 1 1 1 1 1 1 1 1 1 1 1 1 1 1 1 1 1 1 1 1 1 1 1 1 1 1 1 1 1 1\n",
            " 1 1 1 1 1 1 1 1 1 1 1 1 1 0 2 0 2 2 2 2 2 2 2 2 2 2 2 2 2 2 2 2 2 2 2 2 2\n",
            " 2 2 2 0 2 2 2 2 2 2 2 2 2 2 2 2 2 2 2 2 2 2 2 2 2 2 0 2 0 0 0 0 2 0 0 0 0\n",
            " 0 0 2 2 0 0 0 0 2 0 2 0 2 0 0 2 2 0 0 0 0 0 2 0 0 0 0 2 0 0 0 2 0 0 0 2 0\n",
            " 0 2]\n"
          ]
        }
      ]
    },
    {
      "cell_type": "code",
      "metadata": {
        "colab": {
          "base_uri": "https://localhost:8080/",
          "height": 286
        },
        "id": "RVaTMVoIU584",
        "outputId": "d782936c-4c59-4405-f12d-2b75a66ec98a"
      },
      "source": [
        "colors = ['red', 'k', 'grey']\n",
        "classes_colored = [colors[x_transformed] for x_transformed in classifications]\n",
        "\n",
        "plt.scatter(x1, x2, c=classes_colored)"
      ],
      "execution_count": 6,
      "outputs": [
        {
          "output_type": "execute_result",
          "data": {
            "text/plain": [
              "<matplotlib.collections.PathCollection at 0x7fdc5bedf190>"
            ]
          },
          "metadata": {},
          "execution_count": 6
        },
        {
          "output_type": "display_data",
          "data": {
            "image/png": "[encoded data removed]",
            "text/plain": [
              "<Figure size 432x288 with 1 Axes>"
            ]
          },
          "metadata": {
            "needs_background": "light"
          }
        }
      ]
    }
  ]
}