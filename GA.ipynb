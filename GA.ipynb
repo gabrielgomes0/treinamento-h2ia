{
  "nbformat": 4,
  "nbformat_minor": 0,
  "metadata": {
    "colab": {
      "name": "GA.ipynb",
      "provenance": []
    },
    "kernelspec": {
      "name": "python3",
      "display_name": "Python 3"
    },
    "language_info": {
      "name": "python"
    }
  },
  "cells": [
    {
      "cell_type": "code",
      "metadata": {
        "id": "Vr1_xso2__j7"
      },
      "source": [
        "import pandas as pd\n",
        "import numpy as np"
      ],
      "execution_count": 1,
      "outputs": []
    },
    {
      "cell_type": "code",
      "metadata": {
        "id": "JuyQ6mPjA7sX"
      },
      "source": [
        "weight = [63, 21, 2, 32, 13, 80, 19, 37, 56, 41, 14, 8, 32, 42, 7]\n",
        "value = [13, 2, 20, 10, 7, 14, 7, 2, 2, 4, 16, 17, 17, 3, 21]\n",
        "objects = pd.DataFrame({'weights': weight, 'values': value})\n",
        "limit_total_weight = 275"
      ],
      "execution_count": 2,
      "outputs": []
    },
    {
      "cell_type": "code",
      "metadata": {
        "id": "6x7ddoaSAKMM"
      },
      "source": [
        "class Backpack:\n",
        "  def __init__(self, array):\n",
        "    self.inside = array\n",
        "    self.total_weight = sum(objects.iloc[self.decode(array), 0])\n",
        "    self.total_value = sum(objects.iloc[self.decode(array), 1])\n",
        "\n",
        "  def decode(self, array):\n",
        "    indexes = []\n",
        "    for i in range(len(array)):\n",
        "      if array[i] == 1:\n",
        "        indexes.append(i)\n",
        "    return indexes\n",
        "  \n",
        "  def mutate(self, gene):\n",
        "    if self.inside[gene] == 0:\n",
        "      copy_inside = self.inside.copy()\n",
        "      copy_inside[gene] = 1\n",
        "      sum_weight = sum(objects.iloc[self.decode(copy_inside), 0])\n",
        "      if sum_weight <= 275:\n",
        "        self.inside = copy_inside.copy()\n",
        "        self.total_weight = sum(objects.iloc[self.decode(copy_inside), 0])\n",
        "        self.total_value = sum(objects.iloc[self.decode(copy_inside), 1])\n",
        "    else:\n",
        "      self.inside[gene] = 0\n",
        "      self.total_weight = sum(objects.iloc[self.decode(self.inside), 0])\n",
        "      self.total_value = sum(objects.iloc[self.decode(self.inside), 1])\n",
        "\n",
        "    return self\n",
        "      "
      ],
      "execution_count": 3,
      "outputs": []
    },
    {
      "cell_type": "code",
      "metadata": {
        "id": "THHK-t9QAk1q"
      },
      "source": [
        "#The inputs: pulation_size for size of population\n",
        "#reproduction_rate for number of pairs there will be for reproduction\n",
        "#mutation_rate for percentage of mutations\n",
        "class Population:\n",
        "  def __init__(self, population_size, reproduction_rate, mutation_rate):\n",
        "    self.population_size = population_size\n",
        "    self.reproduction_rate = reproduction_rate\n",
        "    self.mutation_rate = mutation_rate\n",
        "    self.populate()\n",
        "\n",
        "  def populate(self):\n",
        "    self.population = []\n",
        "    for i in range(self.population_size):\n",
        "      actual_gene = np.random.choice([1, 0], size=(15), p=[2./3, 1./3])\n",
        "      actual_gene = Backpack(actual_gene)\n",
        "      if actual_gene.total_weight <= 275:\n",
        "        self.population.append(actual_gene)\n",
        "      else:\n",
        "        while actual_gene.total_weight > 275:\n",
        "          actual_gene = np.random.choice([1, 0], size=(15), p=[2./3, 1./3])\n",
        "          actual_gene = Backpack(actual_gene)\n",
        "        if actual_gene.total_weight <= 275:\n",
        "          self.population.append(actual_gene)\n",
        "  \n",
        "  def select_parents(self):\n",
        "    pairs = []\n",
        "    for pair in range(self.reproduction_rate):\n",
        "      all_fitness = [self.population[i].total_value for i in range(self.population_size)]\n",
        "      fitness_chose = all_fitness.copy()\n",
        "      sum_fitness = sum(all_fitness)\n",
        "      accumulator = 0\n",
        "      chosen_number = np.random.randint(1, sum_fitness, 1)\n",
        "      for i in range(len(fitness_chose)):\n",
        "        accumulator += fitness_chose[i]\n",
        "        if accumulator >= chosen_number:\n",
        "          first = fitness_chose[i]\n",
        "          fitness_chose.pop(i)\n",
        "          sum_fitness -= first\n",
        "          break\n",
        "      accumulator = 0\n",
        "      chosen_number = np.random.randint(1, sum_fitness, 1)\n",
        "      for i in range(len(fitness_chose)):\n",
        "        accumulator += fitness_chose[i]\n",
        "        if accumulator >= chosen_number:\n",
        "          second = fitness_chose[i]\n",
        "          fitness_chose.pop(i)\n",
        "          sum_fitness -= first\n",
        "          break\n",
        "      pairs.append([all_fitness.index(first), all_fitness.index(second)])\n",
        "    return pairs\n",
        "\n",
        "  def reproduction(self, parents):\n",
        "    all_sons = []\n",
        "    for pair in parents:\n",
        "      genomes = np.array(self.population)[pair]\n",
        "      cut = np.random.randint(1, 14)\n",
        "      genome1, genome2 = self.cross_over(genomes, cut)\n",
        "      genome1 = Backpack(genome1)\n",
        "      genome2 = Backpack(genome2)\n",
        "      if genome1.total_weight <= 275 : all_sons.append(genome1)\n",
        "      if genome2.total_weight <= 275 : all_sons.append(genome2) \n",
        "    \n",
        "    return all_sons[:self.reproduction_rate]\n",
        "\n",
        "  def cross_over(self, genomes, cut):\n",
        "    parent1, parent2 = genomes\n",
        "    son1 = parent1.inside[:cut].copy() \n",
        "    son1 = np.append(son1, parent2.inside[cut:].copy())\n",
        "\n",
        "    son2 = parent1.inside[cut:].copy()\n",
        "    son2 = np.append(son2, parent2.inside[:cut].copy())\n",
        "\n",
        "    return (son1, son2)\n",
        "\n",
        "  def mutation(self, genomes):\n",
        "    all_genomes = []\n",
        "    for genome in genomes:\n",
        "      if np.random.randint(1, 100) < self.mutation_rate:\n",
        "        genome = genome.mutate(np.random.randint(0, 15))\n",
        "      all_genomes.append(genome)\n",
        "    \n",
        "    return all_genomes\n",
        "  \n",
        "  def bests_fitness(self, number_greater_values):\n",
        "    all_fitness = [self.population[i].total_value for i in range(self.population_size)]\n",
        "    index_best = all_fitness.index(max(all_fitness))\n",
        "    best_solution = self.population[index_best]\n",
        "    all_fitness.sort(reverse=True)\n",
        "    \n",
        "    return all_fitness[:number_greater_values], best_solution"
      ],
      "execution_count": 4,
      "outputs": []
    },
    {
      "cell_type": "code",
      "metadata": {
        "id": "qhlGA6FXk0jY"
      },
      "source": [
        "#Genetic Algorithm\n",
        "epochs = 1000\n",
        "besties = 1\n",
        "population = Population(100, 100, 5)\n",
        "\n",
        "best_value, best_solution = population.bests_fitness(1)\n",
        "\n",
        "actual_epoch = 0\n",
        "for actual_epoch in range(epochs):\n",
        "  actual_value, actual_solution = population.bests_fitness(1)\n",
        "  if best_value < actual_value:\n",
        "    best_solution = actual_solution\n",
        "    best_value = actual_value\n",
        "\n",
        "  parents = population.select_parents()\n",
        "  genomes = population.reproduction(parents)\n",
        "  genomes = population.mutation(genomes)\n",
        "\n",
        "  population.population = genomes\n",
        "\n"
      ],
      "execution_count": 5,
      "outputs": []
    },
    {
      "cell_type": "code",
      "metadata": {
        "colab": {
          "base_uri": "https://localhost:8080/"
        },
        "id": "iz-t9rJlog95",
        "outputId": "4862abc2-2da6-4740-c0b8-99b72e4b30e8"
      },
      "source": [
        "print(f'Best value is {best_value}, and this itens {best_solution.decode(best_solution.inside)}, with this weight {best_solution.total_weight}')"
      ],
      "execution_count": 8,
      "outputs": [
        {
          "output_type": "stream",
          "text": [
            "Best value is [142], and this itens [0, 2, 3, 4, 5, 6, 10, 11, 12, 14], with this weight 270\n"
          ],
          "name": "stdout"
        }
      ]
    }
  ]
}