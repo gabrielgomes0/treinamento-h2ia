{
  "nbformat": 4,
  "nbformat_minor": 0,
  "metadata": {
    "colab": {
      "name": "KNN.ipynb",
      "provenance": []
    },
    "kernelspec": {
      "name": "python3",
      "display_name": "Python 3"
    },
    "language_info": {
      "name": "python"
    }
  },
  "cells": [
    {
      "cell_type": "code",
      "metadata": {
        "id": "AEKeV6Eb1Zyv"
      },
      "source": [
        "import matplotlib.pyplot as plt\n",
        "from sklearn import datasets\n",
        "from sklearn.decomposition import PCA\n",
        "import numpy as np\n",
        "from sklearn.model_selection import train_test_split\n",
        "from scipy import stats"
      ],
      "execution_count": 1,
      "outputs": []
    },
    {
      "cell_type": "code",
      "metadata": {
        "id": "rHQFncaq1mWc"
      },
      "source": [
        "class Knn:\n",
        "  def __init__(self, neighbours, x, y):\n",
        "    self.neighbours = neighbours\n",
        "    self.x = x\n",
        "    self.y = y\n",
        "\n",
        "  def calculate_euclidian(self, point, data):\n",
        "    distance = np.empty([120, 0])\n",
        "    distance = np.concatenate([distance, np.linalg.norm(data - point, axis=1).reshape([-1,1])], axis=1)\n",
        "    return distance\n",
        "  \n",
        "  def classificate(self, indexes):\n",
        "      classifications = self.y[indexes]\n",
        "      result = stats.mode(classifications)\n",
        "      return result[0][0]\n",
        "\n",
        "  \n",
        "  def test(self, x, y):\n",
        "    wrongs = 0\n",
        "    rights = 0\n",
        "    for i in range(x.shape[0]):\n",
        "      distances = self.calculate_euclidian(x[i], self.x)\n",
        "      smallests = distances.argsort(axis=0)[:self.neighbours]\n",
        "      classification = self.classificate(smallests)\n",
        "      if classification[0] == y[i]:\n",
        "        rights += 1\n",
        "      else:\n",
        "        wrongs += 1\n",
        "    return rights/(x.shape[0])\n",
        "\n"
      ],
      "execution_count": 2,
      "outputs": []
    },
    {
      "cell_type": "code",
      "metadata": {
        "colab": {
          "base_uri": "https://localhost:8080/"
        },
        "id": "yHB2hIQo2Y-D",
        "outputId": "c471eb91-9d66-4f25-c653-a7f6f1647834"
      },
      "source": [
        "x, y = datasets.load_iris(return_X_y=True)\n",
        "pca = PCA(n_components=2)\n",
        "x_transformed = pca.fit_transform(x)\n",
        "\n",
        "x_train_data, x_test_data, y_train_data, y_test_data = train_test_split(x_transformed, y, test_size=0.2, random_state=4)\n",
        "x_test_data.shape"
      ],
      "execution_count": 3,
      "outputs": [
        {
          "output_type": "execute_result",
          "data": {
            "text/plain": [
              "(30, 2)"
            ]
          },
          "metadata": {},
          "execution_count": 3
        }
      ]
    },
    {
      "cell_type": "code",
      "metadata": {
        "colab": {
          "base_uri": "https://localhost:8080/"
        },
        "id": "LDu0IYAc2f4C",
        "outputId": "8228f2c8-5655-46b9-ead5-01dd4f247907"
      },
      "source": [
        "knn = Knn(3, x_train_data, y_train_data)\n",
        "knn.test(x_test_data, y_test_data)"
      ],
      "execution_count": 4,
      "outputs": [
        {
          "output_type": "execute_result",
          "data": {
            "text/plain": [
              "0.9666666666666667"
            ]
          },
          "metadata": {},
          "execution_count": 4
        }
      ]
    }
  ]
}