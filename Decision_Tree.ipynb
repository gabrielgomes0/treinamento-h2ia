{
  "nbformat": 4,
  "nbformat_minor": 0,
  "metadata": {
    "colab": {
      "name": "Decision Tree.ipynb",
      "provenance": []
    },
    "kernelspec": {
      "name": "python3",
      "display_name": "Python 3"
    },
    "language_info": {
      "name": "python"
    }
  },
  "cells": [
    {
      "cell_type": "code",
      "metadata": {
        "id": "sglMUMPM5vkz"
      },
      "source": [
        "import numpy as np\n",
        "import sklearn\n",
        "from sklearn.datasets import load_wine\n",
        "import math\n",
        "from sklearn.model_selection import train_test_split"
      ],
      "execution_count": 1,
      "outputs": []
    },
    {
      "cell_type": "code",
      "metadata": {
        "id": "KOmgQdxi5-G5"
      },
      "source": [
        "data = load_wine()\n",
        "x = data.data\n",
        "y = data.target\n",
        "x_train, x_test, y_train, y_test = train_test_split(x, y, test_size=0.3)"
      ],
      "execution_count": 2,
      "outputs": []
    },
    {
      "cell_type": "code",
      "metadata": {
        "id": "-pttjTarg-Fm"
      },
      "source": [
        "class Node():\n",
        "  def __init__(self, root, attribute, mid):\n",
        "    self.root = root\n",
        "    self.attribute = attribute\n",
        "    self.mid = mid\n",
        "    self.children = []\n",
        "    self.classification = None\n",
        "\n",
        "  def define_children(self, child):\n",
        "    self.children.append(child)"
      ],
      "execution_count": 3,
      "outputs": []
    },
    {
      "cell_type": "code",
      "metadata": {
        "id": "hoWqWJFB7Pii"
      },
      "source": [
        "class Decision_tree():\n",
        "\n",
        "  #def __init__(self)\n",
        "\n",
        "  def calculate_entropy(self, x, y):\n",
        "    ocurrences = []\n",
        "    entropy = 0\n",
        "    for i in range(3):\n",
        "      ocurrences = np.count_nonzero(y == i)\n",
        "      if ocurrences != 0:\n",
        "        entropy += -((ocurrences/len(y)*math.log2(ocurrences/len(y))))\n",
        "    return entropy\n",
        "  \n",
        "  def calculate_aie(self, x, y, attribute):\n",
        "    aie = 0\n",
        "    mid = x[:, attribute].mean()\n",
        "    for i in range(3):\n",
        "      indices = np.where(y == i)\n",
        "      actual_array = x[indices, attribute]\n",
        "      total_values = len(indices[0])\n",
        "      positives = np.count_nonzero(actual_array <= mid)\n",
        "      \n",
        "      if positives != 0:\n",
        "        entropy = -((positives/total_values*math.log2(positives/total_values)))\n",
        "        aie += ((total_values/len(y))* entropy)\n",
        "    return aie\n",
        "  \n",
        "  def fit(self, x, y):\n",
        "    node_root = self.calculate_gain(x, y)\n",
        "    indices = np.where(x[:, node_root] <= x[:, node_root].mean())\n",
        "    #x = np.delete(x, node_root, axis=1)\n",
        "    xr = x[indices].copy()\n",
        "    yr = y[indices].copy()\n",
        "    xl = np.delete(x, indices, axis=0)\n",
        "    yl = np.delete(y, indices)\n",
        "\n",
        "    \n",
        "    self.root = Node(0, node_root, x[:, node_root].mean())\n",
        "\n",
        "    self.root.define_children(self.fit_recursive(xr, yr, self.root))\n",
        "    self.root.define_children(self.fit_recursive(xl, yl, self.root))\n",
        "  def fit_recursive(self, x, y, root):\n",
        "    if len(np.unique(y)) != 1:\n",
        "      node_root = self.calculate_gain(x, y)\n",
        "      indices = np.where(x[:, node_root] <= x[:, node_root].mean())\n",
        "      #x = np.delete(x, node_root, axis=1)\n",
        "      xr = x[indices].copy()\n",
        "      yr = y[indices].copy()\n",
        "      xl = np.delete(x, indices, axis=0)\n",
        "      yl = np.delete(y, indices)\n",
        "      actual_root = Node(root, node_root, x[:, node_root].mean())\n",
        "      \n",
        "\n",
        "      actual_root.define_children(self.fit_recursive(xr, yr, actual_root))\n",
        "      actual_root.define_children(self.fit_recursive(xl, yl, actual_root))\n",
        "\n",
        "      return actual_root\n",
        "    else:\n",
        "      leaf = Node(root, 0, 0)\n",
        "      leaf.classification = y[0]\n",
        "      return leaf\n",
        "\n",
        "\n",
        "  def calculate_gain(self, x, y):\n",
        "    entropy = self.calculate_entropy(x, y)\n",
        "    values = []\n",
        "    for i in range(x.shape[1]):\n",
        "      aie = self.calculate_aie(x, y, i)\n",
        "      values.append(entropy - aie)\n",
        "    max_value = max(values)\n",
        "    index = values.index(max_value)\n",
        "    return index\n",
        "  \n",
        "  def predict(self, x):\n",
        "    return self.predict_recursive(x, self.root)\n",
        "  \n",
        "  def predict_recursive(self, x, root):\n",
        "    if root.classification == None:\n",
        "      attribute = root.attribute\n",
        "      #print(attribute)\n",
        "      mid = root.mid\n",
        "      if x[attribute] <= mid:\n",
        "        return self.predict_recursive(x, root.children[0])\n",
        "      else:\n",
        "        return self.predict_recursive(x, root.children[1])\n",
        "    else:\n",
        "      return root.classification\n",
        "\n",
        "  def test(self, x, y):\n",
        "    total_rights = 0\n",
        "    for actual_x, actual_y in zip(x, y):\n",
        "      prediction = self.predict(actual_x)\n",
        "      if prediction == actual_y:\n",
        "        total_rights += 1\n",
        "    \n",
        "    return total_rights/ len(y)"
      ],
      "execution_count": 4,
      "outputs": []
    },
    {
      "cell_type": "code",
      "metadata": {
        "colab": {
          "base_uri": "https://localhost:8080/"
        },
        "id": "FF7dCyKH7rSc",
        "outputId": "ea7d292d-24c0-4a05-8cb2-ee34391655cf"
      },
      "source": [
        "dt = Decision_tree()\n",
        "dt.fit(x_train, y_train)\n",
        "dt.test(x_test, y_test)"
      ],
      "execution_count": 8,
      "outputs": [
        {
          "output_type": "execute_result",
          "data": {
            "text/plain": [
              "0.7777777777777778"
            ]
          },
          "metadata": {},
          "execution_count": 8
        }
      ]
    }
  ]
}