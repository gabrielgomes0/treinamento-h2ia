{
  "nbformat": 4,
  "nbformat_minor": 0,
  "metadata": {
    "colab": {
      "name": "Tabu Search.ipynb",
      "provenance": [],
      "collapsed_sections": []
    },
    "kernelspec": {
      "name": "python3",
      "display_name": "Python 3"
    },
    "language_info": {
      "name": "python"
    }
  },
  "cells": [
    {
      "cell_type": "code",
      "metadata": {
        "id": "BEWkfzKA0Fh6"
      },
      "source": [
        "import pandas as pd"
      ],
      "execution_count": 1,
      "outputs": []
    },
    {
      "cell_type": "code",
      "metadata": {
        "id": "tvSj34wo0S2M"
      },
      "source": [
        "weight = [63, 21, 2, 32, 13, 80, 19, 37, 56, 41, 14, 8, 32, 42, 7]\n",
        "value = [13, 2, 20, 10, 7, 14, 7, 2, 2, 4, 16, 17, 17, 3, 21]\n",
        "objects = pd.DataFrame({'weights': weight, 'values': value})"
      ],
      "execution_count": 2,
      "outputs": []
    },
    {
      "cell_type": "code",
      "metadata": {
        "id": "I5Q_vm5XzrfX"
      },
      "source": [
        "class backpack:\n",
        "  def __init__(self, array, tabu_wait):\n",
        "    self.inside = array\n",
        "    self.total_weight = sum(objects.iloc[array, 0])\n",
        "    self.limit_total_weight = 275\n",
        "    self.total_value = sum(objects.iloc[array, 1])\n",
        "    self.tabu_list = pd.DataFrame(columns=['array', 'waitlist'])\n",
        "    self.tabu_wait = tabu_wait\n",
        "  \n",
        "  def calculate_tabu_list(self):\n",
        "\n",
        "    #Sub 1 in tabu_list\n",
        "    sub_waitlist = self.tabu_list['waitlist'] - 1\n",
        "    self.tabu_list['waitlist'] = sub_waitlist\n",
        "    self.delete_zeros()\n",
        "\n",
        "\n",
        "    self.tabu_list = self.tabu_list.append({'array': self.inside,\n",
        "                           'waitlist':self.tabu_wait}, ignore_index=True)\n",
        "\n",
        "    list_selecteds = pd.DataFrame(columns = ['array',\n",
        "                                             'weight_difference',\n",
        "                                             'value_difference'])\n",
        "    \n",
        "    actual_array = set(self.inside)\n",
        "    entire_array = {0, 1, 2, 3, 4, 5, 6, 7, 8, 9, 11, 12, 13, 14}\n",
        "\n",
        "\n",
        "    #Verify if we can add some object without the swap need\n",
        "    if self.total_weight + objects.iloc[list(entire_array - actual_array), 0].min() <= self.limit_total_weight:\n",
        "      possible_adds = self.get_bests_values_to_add(actual_array, entire_array, list_selecteds)\n",
        "      list_selecteds = list_selecteds.append(possible_adds, ignore_index=True)\n",
        "    \n",
        "    list_selecteds = self.swap_possibles(actual_array, entire_array, list_selecteds)\n",
        "    return list_selecteds\n",
        "\n",
        "  def swap_possibles(self, actual_array, entire_array, df):\n",
        "    rest_of_values = list(entire_array - actual_array)\n",
        "    for value in rest_of_values:\n",
        "      df = self.one_swap_possible(value, self.inside, df)\n",
        "    return df\n",
        "\n",
        "  def one_swap_possible(self, objectID, array, df):\n",
        "    for i in range(len(array)):\n",
        "      array_copy = array.copy()\n",
        "      array_copy[i] = objectID\n",
        "\n",
        "      sum_weight = sum(objects.iloc[array_copy, 0])\n",
        "      if sum_weight <= self.limit_total_weight:\n",
        "        sum_value = sum(objects.iloc[array_copy, 1])\n",
        "        array_copy.sort()\n",
        "        df = df.append({'array': array_copy,\n",
        "                      'weight_difference': sum_weight - self.total_weight,\n",
        "                      'value_difference': sum_value - self.total_value}, ignore_index=True)\n",
        "      \n",
        "    return df\n",
        "\n",
        "  def get_bests_values_to_add(self, actual_array, entire_array, df):\n",
        "    rest_of_values = objects.iloc[list(entire_array - actual_array)]\n",
        "    possible_values = rest_of_values[rest_of_values['weights'] + self.total_weight <= self.limit_total_weight]\n",
        "    for index in possible_values.index:\n",
        "      possible_array = list(actual_array).copy()\n",
        "      possible_array.append(index)\n",
        "      new_total_weight = sum(objects.iloc[possible_array, 0])\n",
        "      new_total_value = sum(objects.iloc[possible_array, 1])\n",
        "\n",
        "      df = df.append({'array': possible_array,\n",
        "                      'weight_difference': new_total_weight - self.total_weight,\n",
        "                      'value_difference': new_total_value - self.total_value}, ignore_index=True)\n",
        "      \n",
        "    return df\n",
        "  \n",
        "  def change_array(self, array):\n",
        "    array.sort()\n",
        "    self.inside = array\n",
        "    self.total_weight = sum(objects.iloc[array, 0])\n",
        "    self.total_value = sum(objects.iloc[array, 1])\n",
        "    \n",
        "\n",
        "    return self\n",
        "\n",
        "  def delete_zeros(self):\n",
        "    indexNames = self.tabu_list[self.tabu_list['waitlist'] == 0 ].index\n",
        "    self.tabu_list.drop(indexNames , inplace=True)\n",
        "\n",
        "\n"
      ],
      "execution_count": 3,
      "outputs": []
    },
    {
      "cell_type": "code",
      "metadata": {
        "id": "Urm1L697b217"
      },
      "source": [
        "def organize_possible_selecteds_list(df):\n",
        "  df.sort_values(by=['value_difference'], inplace=True, ascending=False)"
      ],
      "execution_count": 4,
      "outputs": []
    },
    {
      "cell_type": "code",
      "metadata": {
        "id": "_2kP4RFehABs"
      },
      "source": [
        "def check_tabu_list(df, array):\n",
        "  for row in df['array']:\n",
        "    array.sort()\n",
        "    row.sort()\n",
        "    if array == row:\n",
        "      return True\n",
        "  return False"
      ],
      "execution_count": 5,
      "outputs": []
    },
    {
      "cell_type": "code",
      "metadata": {
        "colab": {
          "base_uri": "https://localhost:8080/"
        },
        "id": "iFm-cVRbY0rn",
        "outputId": "ed2533a2-ff7d-4b8b-d68c-63892661df41"
      },
      "source": [
        "#Tabu Search\n",
        "\n",
        "actual_solution = backpack([0, 1, 2, 3, 6, 10, 11, 12], 10)\n",
        "iters = 100\n",
        "\n",
        "best_solution = actual_solution.inside.copy()\n",
        "best_value = actual_solution.total_value\n",
        "i = 0\n",
        "\n",
        "while i < iters:\n",
        "\n",
        "  possibles = actual_solution.calculate_tabu_list()\n",
        "  organize_possible_selecteds_list(possibles)\n",
        "  for array in possibles['array']:\n",
        "    if check_tabu_list(actual_solution.tabu_list, array):\n",
        "      #Aspiration_criteria\n",
        "      if best_value < sum(objects.iloc[array, 1]):\n",
        "        actual_solution.change_array(array)\n",
        "        best_value = actual_solution.total_value\n",
        "        best_solution = array.copy()\n",
        "        break\n",
        "      else:\n",
        "        pass\n",
        "    else:\n",
        "      actual_solution.change_array(array)\n",
        "      if best_value < actual_solution.total_value:\n",
        "        best_value = actual_solution.total_value\n",
        "        best_solution = actual_solution.inside.copy()\n",
        "      break\n",
        "  \n",
        "\n",
        "  i+=1\n",
        "\n",
        "print(f'Best Value is {best_value}')\n",
        "new_list = [x+1 for x in best_solution]\n",
        "print(f'Items in the backpack {new_list}')\n",
        "print(f'Total Weight {sum(objects.iloc[best_solution, 0])}')"
      ],
      "execution_count": 6,
      "outputs": [
        {
          "output_type": "stream",
          "text": [
            "Best Value is 142\n",
            "Items in the backpack [1, 3, 4, 5, 6, 7, 11, 12, 13, 15]\n",
            "Total Weight 270\n"
          ],
          "name": "stdout"
        }
      ]
    },
    {
      "cell_type": "markdown",
      "metadata": {
        "id": "BnNkMlUvHZ-8"
      },
      "source": [
        "###Busca Tabu\n",
        "O algoritmo de Busca Tabu se mostrou eficiente para o problema, com baixo consumo de memória, pois o que define o tamanho da memória utilizada é um parâmetro escolhido pelo usuário.\n",
        "\n",
        "\n",
        "Quanto ao processamento do algoritmo, demonstrou ser rapido para resolver o problema da mochila, seguindo o numero de iterações que também é fornecido pelo usuário.\n",
        "\n",
        "\n",
        "Para problemas como o da mochila, onde não nos interessa o caminho realizado pelo algoritmo e sim apenas a resposta, é mais interessante de se utilizar do que A* e os demais algoritmos vistos anteriormente, pelo fato do consumo da memória ser muito menor e termos um controle maior do tempo de execução.Porém, não temos garantia de achar exatamente a melhor solução."
      ]
    }
  ]
}